{
  "nbformat": 4,
  "nbformat_minor": 0,
  "metadata": {
    "colab": {
      "name": "Assignment Day 2.ipynb",
      "provenance": []
    },
    "kernelspec": {
      "name": "python3",
      "display_name": "Python 3"
    }
  },
  "cells": [
    {
      "cell_type": "markdown",
      "metadata": {
        "id": "6Yx2lK6OkOj_"
      },
      "source": [
        "## Question 1\r\n",
        "Try 5 Different functions of the String in Python.\r\n",
        "\r\n",
        "For example - index, split function."
      ]
    },
    {
      "cell_type": "code",
      "metadata": {
        "id": "sgrNjZnwkuZq"
      },
      "source": [
        "a = \"Hello, World!\"\r\n",
        "b = \"How are you\""
      ],
      "execution_count": 1,
      "outputs": []
    },
    {
      "cell_type": "code",
      "metadata": {
        "colab": {
          "base_uri": "https://localhost:8080/"
        },
        "id": "MxFWgt6qkrFK",
        "outputId": "59d37223-ab16-428b-a46d-e242a73c54e1"
      },
      "source": [
        "#lenght\r\n",
        "print(len(a))"
      ],
      "execution_count": 2,
      "outputs": [
        {
          "output_type": "stream",
          "text": [
            "13\n"
          ],
          "name": "stdout"
        }
      ]
    },
    {
      "cell_type": "code",
      "metadata": {
        "colab": {
          "base_uri": "https://localhost:8080/"
        },
        "id": "Ai8gqWNBlX7w",
        "outputId": "e17e2025-9c69-4b56-cb82-05e278be27cc"
      },
      "source": [
        "#split string\r\n",
        "a.split()"
      ],
      "execution_count": 3,
      "outputs": [
        {
          "output_type": "execute_result",
          "data": {
            "text/plain": [
              "['Hello,', 'World!']"
            ]
          },
          "metadata": {
            "tags": []
          },
          "execution_count": 3
        }
      ]
    },
    {
      "cell_type": "code",
      "metadata": {
        "colab": {
          "base_uri": "https://localhost:8080/",
          "height": 35
        },
        "id": "29-sQWPplv3Q",
        "outputId": "63813854-c2c7-4ce2-b121-54bcf8d718ad"
      },
      "source": [
        "#capitalize whole string\r\n",
        "a.upper()"
      ],
      "execution_count": 4,
      "outputs": [
        {
          "output_type": "execute_result",
          "data": {
            "application/vnd.google.colaboratory.intrinsic+json": {
              "type": "string"
            },
            "text/plain": [
              "'HELLO, WORLD!'"
            ]
          },
          "metadata": {
            "tags": []
          },
          "execution_count": 4
        }
      ]
    },
    {
      "cell_type": "code",
      "metadata": {
        "colab": {
          "base_uri": "https://localhost:8080/"
        },
        "id": "s0OGaQI_lyku",
        "outputId": "7dda455a-8eb7-4117-93cf-cd684862716b"
      },
      "source": [
        "#print index of given letter\r\n",
        "print(\"index of H\",a.index('H'))"
      ],
      "execution_count": 5,
      "outputs": [
        {
          "output_type": "stream",
          "text": [
            "index of H 0\n"
          ],
          "name": "stdout"
        }
      ]
    },
    {
      "cell_type": "code",
      "metadata": {
        "colab": {
          "base_uri": "https://localhost:8080/",
          "height": 35
        },
        "id": "i1bk22pWnKES",
        "outputId": "9b895315-2c70-4702-b864-ff1d050c9084"
      },
      "source": [
        "#concatinate two string\r\n",
        "a + \" \" + b"
      ],
      "execution_count": 6,
      "outputs": [
        {
          "output_type": "execute_result",
          "data": {
            "application/vnd.google.colaboratory.intrinsic+json": {
              "type": "string"
            },
            "text/plain": [
              "'Hello, World! How are you'"
            ]
          },
          "metadata": {
            "tags": []
          },
          "execution_count": 6
        }
      ]
    },
    {
      "cell_type": "markdown",
      "metadata": {
        "id": "McZ4RJYvoyBr"
      },
      "source": [
        "## Question 2\r\n",
        "Try 5 Different functions of the List object in Python"
      ]
    },
    {
      "cell_type": "code",
      "metadata": {
        "id": "mwyqFTWno4Dz"
      },
      "source": [
        "lst = [12,34,26,48,72] "
      ],
      "execution_count": 7,
      "outputs": []
    },
    {
      "cell_type": "code",
      "metadata": {
        "colab": {
          "base_uri": "https://localhost:8080/"
        },
        "id": "LLEhwePJp5R3",
        "outputId": "c5263aaf-4f8a-41b2-da0d-78abdf73623a"
      },
      "source": [
        "#length of list\r\n",
        "len(lst)"
      ],
      "execution_count": 8,
      "outputs": [
        {
          "output_type": "execute_result",
          "data": {
            "text/plain": [
              "5"
            ]
          },
          "metadata": {
            "tags": []
          },
          "execution_count": 8
        }
      ]
    },
    {
      "cell_type": "code",
      "metadata": {
        "colab": {
          "base_uri": "https://localhost:8080/"
        },
        "id": "MyAxE4p0p_Ii",
        "outputId": "d1c2aebb-3473-4e1e-c8fd-3ea2740bff26"
      },
      "source": [
        "#returns max element in list\r\n",
        "max(lst)"
      ],
      "execution_count": 9,
      "outputs": [
        {
          "output_type": "execute_result",
          "data": {
            "text/plain": [
              "72"
            ]
          },
          "metadata": {
            "tags": []
          },
          "execution_count": 9
        }
      ]
    },
    {
      "cell_type": "code",
      "metadata": {
        "colab": {
          "base_uri": "https://localhost:8080/"
        },
        "id": "IpxheyPDqR3J",
        "outputId": "fd88ffc9-a9fc-41a4-9a14-b72e5ef1cdee"
      },
      "source": [
        "#returns min element in list\r\n",
        "min(lst)"
      ],
      "execution_count": 10,
      "outputs": [
        {
          "output_type": "execute_result",
          "data": {
            "text/plain": [
              "12"
            ]
          },
          "metadata": {
            "tags": []
          },
          "execution_count": 10
        }
      ]
    },
    {
      "cell_type": "code",
      "metadata": {
        "id": "4jBFYF_SrGbh"
      },
      "source": [
        "#sublist\r\n",
        "lst1 = [12,34,26,48,72,[\"Hello\", \"World!\"]]"
      ],
      "execution_count": 11,
      "outputs": []
    },
    {
      "cell_type": "code",
      "metadata": {
        "colab": {
          "base_uri": "https://localhost:8080/"
        },
        "id": "OzSo1xJEsI5e",
        "outputId": "a4da5284-c73f-450f-d7d3-38e790271d2d"
      },
      "source": [
        "lst1"
      ],
      "execution_count": 12,
      "outputs": [
        {
          "output_type": "execute_result",
          "data": {
            "text/plain": [
              "[12, 34, 26, 48, 72, ['Hello', 'World!']]"
            ]
          },
          "metadata": {
            "tags": []
          },
          "execution_count": 12
        }
      ]
    },
    {
      "cell_type": "code",
      "metadata": {
        "colab": {
          "base_uri": "https://localhost:8080/"
        },
        "id": "u-g7HS7hsLE-",
        "outputId": "a035dcf4-797d-48b6-ec3a-e8b645eb3cce"
      },
      "source": [
        "lst1[5]"
      ],
      "execution_count": 13,
      "outputs": [
        {
          "output_type": "execute_result",
          "data": {
            "text/plain": [
              "['Hello', 'World!']"
            ]
          },
          "metadata": {
            "tags": []
          },
          "execution_count": 13
        }
      ]
    },
    {
      "cell_type": "code",
      "metadata": {
        "colab": {
          "base_uri": "https://localhost:8080/",
          "height": 35
        },
        "id": "-1s_oZeRsgY0",
        "outputId": "711f0581-90ec-4032-fed4-a2b18c98c3c9"
      },
      "source": [
        "lst1[5][0]"
      ],
      "execution_count": 14,
      "outputs": [
        {
          "output_type": "execute_result",
          "data": {
            "application/vnd.google.colaboratory.intrinsic+json": {
              "type": "string"
            },
            "text/plain": [
              "'Hello'"
            ]
          },
          "metadata": {
            "tags": []
          },
          "execution_count": 14
        }
      ]
    },
    {
      "cell_type": "code",
      "metadata": {
        "colab": {
          "base_uri": "https://localhost:8080/"
        },
        "id": "k87QcASHscHB",
        "outputId": "c40d90f8-7ad3-4850-8790-fed454707322"
      },
      "source": [
        "#adds element at end of the list\r\n",
        "lst1.append(55)\r\n",
        "lst1"
      ],
      "execution_count": 15,
      "outputs": [
        {
          "output_type": "execute_result",
          "data": {
            "text/plain": [
              "[12, 34, 26, 48, 72, ['Hello', 'World!'], 55]"
            ]
          },
          "metadata": {
            "tags": []
          },
          "execution_count": 15
        }
      ]
    },
    {
      "cell_type": "code",
      "metadata": {
        "colab": {
          "base_uri": "https://localhost:8080/"
        },
        "id": "33fNWrB9tHEC",
        "outputId": "d0d24b1b-44e7-4260-cf59-00fdc47ce4c0"
      },
      "source": [
        "#removes specific elemnts\r\n",
        "lst1.remove(55)\r\n",
        "lst1"
      ],
      "execution_count": 16,
      "outputs": [
        {
          "output_type": "execute_result",
          "data": {
            "text/plain": [
              "[12, 34, 26, 48, 72, ['Hello', 'World!']]"
            ]
          },
          "metadata": {
            "tags": []
          },
          "execution_count": 16
        }
      ]
    },
    {
      "cell_type": "markdown",
      "metadata": {
        "id": "9L95O1DYtgtX"
      },
      "source": [
        "##Question 3\r\n",
        "Experiment with at least 5 default functions of Dictionary"
      ]
    },
    {
      "cell_type": "code",
      "metadata": {
        "id": "nFrA8sumtmft"
      },
      "source": [
        "dict1 = {'CPU':'i5','RAM':'4GB','hdd':'1TB'}"
      ],
      "execution_count": 17,
      "outputs": []
    },
    {
      "cell_type": "code",
      "metadata": {
        "colab": {
          "base_uri": "https://localhost:8080/",
          "height": 35
        },
        "id": "u8aXgYJPucSo",
        "outputId": "de2dda36-731f-46af-9e8f-8b3f35ec26b1"
      },
      "source": [
        "dict1['CPU']"
      ],
      "execution_count": 18,
      "outputs": [
        {
          "output_type": "execute_result",
          "data": {
            "application/vnd.google.colaboratory.intrinsic+json": {
              "type": "string"
            },
            "text/plain": [
              "'i5'"
            ]
          },
          "metadata": {
            "tags": []
          },
          "execution_count": 18
        }
      ]
    },
    {
      "cell_type": "code",
      "metadata": {
        "colab": {
          "base_uri": "https://localhost:8080/"
        },
        "id": "qc2cjki7u4-X",
        "outputId": "7bf67baf-9633-4d5a-edcf-40e3b6bc200f"
      },
      "source": [
        "#returns length of dict\r\n",
        "len(dict1)"
      ],
      "execution_count": 19,
      "outputs": [
        {
          "output_type": "execute_result",
          "data": {
            "text/plain": [
              "3"
            ]
          },
          "metadata": {
            "tags": []
          },
          "execution_count": 19
        }
      ]
    },
    {
      "cell_type": "code",
      "metadata": {
        "colab": {
          "base_uri": "https://localhost:8080/"
        },
        "id": "fWJWJpYwu8cF",
        "outputId": "4287091e-82e6-419e-d1f0-3ff9ca716e61"
      },
      "source": [
        "#returns all the keys in dictionary \r\n",
        "dict1.keys()"
      ],
      "execution_count": 20,
      "outputs": [
        {
          "output_type": "execute_result",
          "data": {
            "text/plain": [
              "dict_keys(['CPU', 'RAM', 'hdd'])"
            ]
          },
          "metadata": {
            "tags": []
          },
          "execution_count": 20
        }
      ]
    },
    {
      "cell_type": "code",
      "metadata": {
        "id": "UoMI7tVJvJWz"
      },
      "source": [
        "dict2 = {'brand':'HP'}"
      ],
      "execution_count": 21,
      "outputs": []
    },
    {
      "cell_type": "code",
      "metadata": {
        "colab": {
          "base_uri": "https://localhost:8080/"
        },
        "id": "qn7-zoKPwyj2",
        "outputId": "ea4d85af-82df-45dc-ac0a-6440bb8b656a"
      },
      "source": [
        "#here dict2 will get added in dict1\r\n",
        "dict1.update(dict2)\r\n",
        "dict1"
      ],
      "execution_count": 22,
      "outputs": [
        {
          "output_type": "execute_result",
          "data": {
            "text/plain": [
              "{'CPU': 'i5', 'RAM': '4GB', 'brand': 'HP', 'hdd': '1TB'}"
            ]
          },
          "metadata": {
            "tags": []
          },
          "execution_count": 22
        }
      ]
    },
    {
      "cell_type": "code",
      "metadata": {
        "colab": {
          "base_uri": "https://localhost:8080/"
        },
        "id": "dbzbeSr9xHyl",
        "outputId": "af4cdd00-2b0f-4db9-e209-6e767bc506a9"
      },
      "source": [
        "#dict1 gets copied in dict2\r\n",
        "dict2 = dict1.copy()\r\n",
        "dict2"
      ],
      "execution_count": 23,
      "outputs": [
        {
          "output_type": "execute_result",
          "data": {
            "text/plain": [
              "{'CPU': 'i5', 'RAM': '4GB', 'brand': 'HP', 'hdd': '1TB'}"
            ]
          },
          "metadata": {
            "tags": []
          },
          "execution_count": 23
        }
      ]
    },
    {
      "cell_type": "code",
      "metadata": {
        "colab": {
          "base_uri": "https://localhost:8080/"
        },
        "id": "JUC91NaOxpoJ",
        "outputId": "6534207d-093e-4d43-d411-f074af66ebbd"
      },
      "source": [
        "#removes all elements from dict1\r\n",
        "dict1.clear()\r\n",
        "dict1"
      ],
      "execution_count": 24,
      "outputs": [
        {
          "output_type": "execute_result",
          "data": {
            "text/plain": [
              "{}"
            ]
          },
          "metadata": {
            "tags": []
          },
          "execution_count": 24
        }
      ]
    }
  ]
}